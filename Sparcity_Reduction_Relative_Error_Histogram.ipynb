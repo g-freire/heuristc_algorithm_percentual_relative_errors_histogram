{
 "cells": [
  {
   "cell_type": "markdown",
   "metadata": {},
   "source": [
    "## Sparcity reduction of relative error series histogram  with outliers\n",
    "\n",
    "<h4>\n",
    "    This analisys aims to study wethers the sparcity histogram reductions algorithms can help reducing the payload of datasets with outliers.\n",
    "</h4>\n",
    "\n",
    "<h4> By now,  this is just a proof of concept about possible optimizations to matplotlib histogram generated data. We are interested in optimize cpu time and chunk data size. At the end, two new dynamic arrays are created containing  only the elements with non sparce data( different from 0). \n",
    "</h4>\n",
    "<h4>\n",
    "    The proposed histogram is intended to represent how the relative /percentual values of the  error  are spread through some time series. Sometimes the dataset contains error values way beyond 100% , this errors, outliers, tails the distribution. We could generate the error histogram using fixed bins independent of the dataset size and quality, \n",
    "or we could create a range of values, determining the min bucket of each series. Both approches were tested.\n",
    "</h4>\n",
    "<h4>  \n",
    "    Using the second approch(same bin size w/ any dataset), we constrained at least 20 bins (100%) to represent the relative error, and  used a fixed bin size of  5. The major problem with this approach is that any outliler, which is a very distant points from the 100% region can create lot of useless data(zeros). To solve it, we generated a new data structure without sparcity to help data transportation. Sparce matrixes can heavily load devices memory and they add no relevant information. \n",
    "<h4>\n",
    "    By the end, one should be able to render the same chart using less data points.\n",
    "</h4>"
   ]
  },
  {
   "cell_type": "markdown",
   "metadata": {},
   "source": [
    "### Data used"
   ]
  },
  {
   "cell_type": "code",
   "execution_count": 1,
   "metadata": {},
   "outputs": [
    {
     "name": "stdout",
     "output_type": "stream",
     "text": [
      "\n",
      "First population\n",
      "len(frequency_data):  23\n",
      "len(histogram_bins):  23\n",
      "\n",
      "Second population\n",
      "len(frequency_data):  405\n",
      "len(histogram_bins):  405\n"
     ]
    }
   ],
   "source": [
    "# mock histogram\n",
    "frequency_data_y  = [0, 1, 2, 0, 0, 0, 0, 0, 0, 0, 0, 0, 0, 0, 0, 0, 0, 0, 0, 0, 0, 0, 1]\n",
    "histogram_bins_x  = [0, 5, 10, 15, 20, 25, 30, 35, 40, 45, 50, 55, 60, 65, 70, 75, 80, 85, 90, 95, 100, 105, 110]\n",
    "\n",
    "print('\\nFirst population')\n",
    "#print(frequency_data_y);print(histogram_bins_x);\n",
    "print('len(frequency_data): ', len(frequency_data_y))\n",
    "print('len(histogram_bins): ', len(histogram_bins_x))\n",
    "\n",
    "\n",
    "# testign with real data generated using matplotlib from a meter source\n",
    "a = [0.0, 0.0, 0.0, 1.0, 1.0, 0.0, 0.0, 0.0, 0.0, 0.0, 0.0, 1.0, 0.0, 0.0, 0.0, 0.0, 0.0, 0.0, 0.0, 0.0, 0.0, 0.0, 0.0, 0.0, 0.0, 0.0, 0.0, 0.0, 0.0, 0.0, 0.0, 0.0, 0.0, 0.0, 0.0, 0.0, 0.0, 0.0, 0.0, 0.0, 0.0, 0.0, 0.0, 0.0, 0.0, 0.0, 0.0, 0.0, 0.0, 0.0, 0.0, 0.0, 0.0, 0.0, 0.0, 0.0, 0.0, 0.0, 0.0, 0.0, 0.0, 0.0, 0.0, 0.0, 0.0, 0.0, 0.0, 0.0, 0.0, 0.0, 0.0, 0.0, 0.0, 0.0, 0.0, 0.0, 0.0, 0.0, 0.0, 0.0, 0.0, 0.0, 0.0, 0.0, 0.0, 0.0, 0.0, 0.0, 0.0, 0.0, 0.0, 0.0, 0.0, 0.0, 0.0, 0.0, 0.0, 0.0, 0.0, 0.0, 0.0, 0.0, 0.0, 0.0, 0.0, 0.0, 0.0, 0.0, 0.0, 0.0, 0.0, 0.0, 0.0, 0.0, 0.0, 0.0, 0.0, 0.0, 0.0, 0.0, 0.0, 0.0, 0.0, 0.0, 0.0, 0.0, 0.0, 0.0, 0.0, 0.0, 0.0, 0.0, 0.0, 0.0, 0.0, 0.0, 0.0, 0.0, 0.0, 0.0, 0.0, 0.0, 0.0, 0.0, 0.0, 0.0, 0.0, 0.0, 0.0, 0.0, 0.0, 0.0, 0.0, 0.0, 0.0, 0.0, 0.0, 0.0, 0.0, 0.0, 0.0, 0.0, 0.0, 0.0, 0.0, 0.0, 0.0, 0.0, 0.0, 0.0, 0.0, 0.0, 0.0, 0.0, 0.0, 0.0, 0.0, 0.0, 0.0, 0.0, 0.0, 0.0, 0.0, 0.0, 0.0, 0.0, 0.0, 0.0, 0.0, 0.0, 0.0, 0.0, 0.0, 0.0, 0.0, 0.0, 0.0, 0.0, 0.0, 0.0, 0.0, 0.0, 0.0, 0.0, 0.0, 0.0, 0.0, 0.0, 0.0, 0.0, 0.0, 0.0, 0.0, 0.0, 0.0, 0.0, 0.0, 0.0, 0.0, 0.0, 0.0, 0.0, 0.0, 0.0, 0.0, 0.0, 0.0, 0.0, 0.0, 0.0, 0.0, 0.0, 0.0, 0.0, 0.0, 0.0, 0.0, 0.0, 0.0, 0.0, 0.0, 0.0, 0.0, 0.0, 0.0, 0.0, 0.0, 0.0, 0.0, 0.0, 0.0, 0.0, 0.0, 0.0, 0.0, 0.0, 0.0, 0.0, 0.0, 0.0, 0.0, 0.0, 0.0, 0.0, 0.0, 0.0, 0.0, 0.0, 0.0, 0.0, 0.0, 0.0, 0.0, 0.0, 0.0, 0.0, 0.0, 0.0, 0.0, 0.0, 0.0, 0.0, 0.0, 0.0, 0.0, 0.0, 0.0, 0.0, 0.0, 0.0, 0.0, 0.0, 0.0, 0.0, 0.0, 0.0, 0.0, 0.0, 0.0, 0.0, 0.0, 0.0, 0.0, 0.0, 0.0, 0.0, 0.0, 0.0, 0.0, 0.0, 0.0, 0.0, 0.0, 0.0, 0.0, 0.0, 0.0, 0.0, 0.0, 0.0, 0.0, 0.0, 0.0, 0.0, 1.0, 0.0, 0.0, 0.0, 0.0, 0.0, 0.0, 0.0, 0.0, 0.0, 0.0, 0.0, 0.0, 0.0, 0.0, 0.0, 0.0, 0.0, 0.0, 0.0, 0.0, 0.0, 0.0, 0.0, 0.0, 0.0, 0.0, 0.0, 0.0, 0.0, 0.0, 0.0, 0.0, 0.0, 0.0, 0.0, 0.0, 0.0, 0.0, 0.0, 0.0, 0.0, 0.0, 0.0, 0.0, 0.0, 0.0, 0.0, 0.0, 0.0, 0.0, 0.0, 0.0, 0.0, 0.0, 0.0, 0.0, 0.0, 0.0, 0.0, 0.0, 0.0, 0.0, 0.0, 0.0, 0.0, 0.0, 0.0, 0.0, 0.0, 0.0, 0.0, 0.0, 0.0, 0.0, 0.0, 0.0, 0.0, 0.0, 0.0, 0.0]\n",
    "b = [0, 5, 10, 15, 20, 25, 30, 35, 40, 45, 50, 55, 60, 65, 70, 75, 80, 85, 90, 95, 100, 105, 110, 115, 120, 125, 130, 135, 140, 145, 150, 155, 160, 165, 170, 175, 180, 185, 190, 195, 200, 205, 210, 215, 220, 225, 230, 235, 240, 245, 250, 255, 260, 265, 270, 275, 280, 285, 290, 295, 300, 305, 310, 315, 320, 325, 330, 335, 340, 345, 350, 355, 360, 365, 370, 375, 380, 385, 390, 395, 400, 405, 410, 415, 420, 425, 430, 435, 440, 445, 450, 455, 460, 465, 470, 475, 480, 485, 490, 495, 500, 505, 510, 515, 520, 525, 530, 535, 540, 545, 550, 555, 560, 565, 570, 575, 580, 585, 590, 595, 600, 605, 610, 615, 620, 625, 630, 635, 640, 645, 650, 655, 660, 665, 670, 675, 680, 685, 690, 695, 700, 705, 710, 715, 720, 725, 730, 735, 740, 745, 750, 755, 760, 765, 770, 775, 780, 785, 790, 795, 800, 805, 810, 815, 820, 825, 830, 835, 840, 845, 850, 855, 860, 865, 870, 875, 880, 885, 890, 895, 900, 905, 910, 915, 920, 925, 930, 935, 940, 945, 950, 955, 960, 965, 970, 975, 980, 985, 990, 995, 1000, 1005, 1010, 1015, 1020, 1025, 1030, 1035, 1040, 1045, 1050, 1055, 1060, 1065, 1070, 1075, 1080, 1085, 1090, 1095, 1100, 1105, 1110, 1115, 1120, 1125, 1130, 1135, 1140, 1145, 1150, 1155, 1160, 1165, 1170, 1175, 1180, 1185, 1190, 1195, 1200, 1205, 1210, 1215, 1220, 1225, 1230, 1235, 1240, 1245, 1250, 1255, 1260, 1265, 1270, 1275, 1280, 1285, 1290, 1295, 1300, 1305, 1310, 1315, 1320, 1325, 1330, 1335, 1340, 1345, 1350, 1355, 1360, 1365, 1370, 1375, 1380, 1385, 1390, 1395, 1400, 1405, 1410, 1415, 1420, 1425, 1430, 1435, 1440, 1445, 1450, 1455, 1460, 1465, 1470, 1475, 1480, 1485, 1490, 1495, 1500, 1505, 1510, 1515, 1520, 1525, 1530, 1535, 1540, 1545, 1550, 1555, 1560, 1565, 1570, 1575, 1580, 1585, 1590, 1595, 1600, 1605, 1610, 1615, 1620, 1625, 1630, 1635, 1640, 1645, 1650, 1655, 1660, 1665, 1670, 1675, 1680, 1685, 1690, 1695, 1700, 1705, 1710, 1715, 1720, 1725, 1730, 1735, 1740, 1745, 1750, 1755, 1760, 1765, 1770, 1775, 1780, 1785, 1790, 1795, 1800, 1805, 1810, 1815, 1820, 1825, 1830, 1835, 1840, 1845, 1850, 1855, 1860, 1865, 1870, 1875, 1880, 1885, 1890, 1895, 1900, 1905, 1910, 1915, 1920, 1925, 1930, 1935, 1940, 1945, 1950, 1955, 1960, 1965, 1970, 1975, 1980, 1985, 1990, 1995, 2000, 2005, 2010, 2015, 2020]\n",
    "\n",
    "print('\\nSecond population')\n",
    "#print(a);#print(b)\n",
    "print('len(frequency_data): ', len(a))\n",
    "print('len(histogram_bins): ', len(b))\n"
   ]
  },
  {
   "cell_type": "markdown",
   "metadata": {},
   "source": [
    "### Creating the algorthms"
   ]
  },
  {
   "cell_type": "code",
   "execution_count": 2,
   "metadata": {},
   "outputs": [],
   "source": [
    "def remove_no_signal_data(bins_list_x, frequency_list):\n",
    "    only_signal_collection = []\n",
    "    print('index', '', 'bin_value', '', 'frequency_value')\n",
    "    for index, value in enumerate(bins_list_x):\n",
    "        if frequency_list[index] > 0:\n",
    "            print(index, '    ', value, '           ' ,frequency_list[index] )"
   ]
  },
  {
   "cell_type": "code",
   "execution_count": 3,
   "metadata": {},
   "outputs": [
    {
     "name": "stdout",
     "output_type": "stream",
     "text": [
      "index  bin_value  frequency_value\n",
      "1      5             1\n",
      "2      10             2\n",
      "22      110             1\n"
     ]
    }
   ],
   "source": [
    "remove_no_signal_data(histogram_bins_x, frequency_data_y)"
   ]
  },
  {
   "cell_type": "code",
   "execution_count": 4,
   "metadata": {},
   "outputs": [
    {
     "name": "stdout",
     "output_type": "stream",
     "text": [
      "index  bin_value  frequency_value\n",
      "3      15             1.0\n",
      "4      20             1.0\n",
      "11      55             1.0\n",
      "324      1620             1.0\n"
     ]
    }
   ],
   "source": [
    "remove_no_signal_data(b, a)"
   ]
  },
  {
   "cell_type": "markdown",
   "metadata": {},
   "source": [
    "### Keep the first 20 bins (100% of the relative error)"
   ]
  },
  {
   "cell_type": "code",
   "execution_count": 5,
   "metadata": {},
   "outputs": [],
   "source": [
    "# creating the algorithms\n",
    "\n",
    "def remove_no_signal_data_keep_first_20_bins(bins_list_x, frequency_list):\n",
    "    non_sparce_bin_collection = []\n",
    "    non_sparce_frequency_collection = []\n",
    "    \n",
    "    print('index', '', 'bin_value', '', 'frequency_value')\n",
    "    for index, bin_value in enumerate(bins_list_x):\n",
    "\n",
    "        # always keep the 100% error range\n",
    "        if index <= 20:\n",
    "            non_sparce_bin_collection.append(bins_list_x[index])\n",
    "            non_sparce_frequency_collection.append(frequency_list[index])\n",
    "\n",
    "        else:\n",
    "            if frequency_list[index] > 0:\n",
    "                non_sparce_bin_collection.append(bins_list_x[index])\n",
    "                non_sparce_frequency_collection.append(frequency_list[index])     \n",
    "\n",
    "    return [non_sparce_bin_collection, non_sparce_frequency_collection]\n",
    "\n",
    "         "
   ]
  },
  {
   "cell_type": "markdown",
   "metadata": {},
   "source": [
    "##### testing on small population"
   ]
  },
  {
   "cell_type": "code",
   "execution_count": 6,
   "metadata": {},
   "outputs": [
    {
     "name": "stdout",
     "output_type": "stream",
     "text": [
      "[0, 5, 10, 15, 20, 25, 30, 35, 40, 45, 50, 55, 60, 65, 70, 75, 80, 85, 90, 95, 100, 105, 110]\n",
      "[0, 1, 2, 0, 0, 0, 0, 0, 0, 0, 0, 0, 0, 0, 0, 0, 0, 0, 0, 0, 0, 0, 1]\n"
     ]
    }
   ],
   "source": [
    "print(histogram_bins_x)\n",
    "print(frequency_data_y)"
   ]
  },
  {
   "cell_type": "code",
   "execution_count": 7,
   "metadata": {},
   "outputs": [
    {
     "name": "stdout",
     "output_type": "stream",
     "text": [
      "index  bin_value  frequency_value\n",
      "non_sparce_frequency_collection:  [0, 5, 10, 15, 20, 25, 30, 35, 40, 45, 50, 55, 60, 65, 70, 75, 80, 85, 90, 95, 100, 110]\n",
      "non_sparce_bin_collection:  [0, 1, 2, 0, 0, 0, 0, 0, 0, 0, 0, 0, 0, 0, 0, 0, 0, 0, 0, 0, 0, 1]\n"
     ]
    }
   ],
   "source": [
    "result = remove_no_signal_data_keep_first_20_bins(histogram_bins_x, frequency_data_y )\n",
    "print(\"non_sparce_frequency_collection: \", result[0])\n",
    "print(\"non_sparce_bin_collection: \", result[1])"
   ]
  },
  {
   "cell_type": "markdown",
   "metadata": {},
   "source": [
    "##### testing on larger population"
   ]
  },
  {
   "cell_type": "code",
   "execution_count": 8,
   "metadata": {},
   "outputs": [
    {
     "name": "stdout",
     "output_type": "stream",
     "text": [
      "[0.0, 0.0, 0.0, 1.0, 1.0, 0.0, 0.0, 0.0, 0.0, 0.0, 0.0, 1.0, 0.0, 0.0, 0.0, 0.0, 0.0, 0.0, 0.0, 0.0, 0.0, 0.0, 0.0, 0.0, 0.0, 0.0, 0.0, 0.0, 0.0, 0.0, 0.0, 0.0, 0.0, 0.0, 0.0, 0.0, 0.0, 0.0, 0.0, 0.0, 0.0, 0.0, 0.0, 0.0, 0.0, 0.0, 0.0, 0.0, 0.0, 0.0, 0.0, 0.0, 0.0, 0.0, 0.0, 0.0, 0.0, 0.0, 0.0, 0.0, 0.0, 0.0, 0.0, 0.0, 0.0, 0.0, 0.0, 0.0, 0.0, 0.0, 0.0, 0.0, 0.0, 0.0, 0.0, 0.0, 0.0, 0.0, 0.0, 0.0, 0.0, 0.0, 0.0, 0.0, 0.0, 0.0, 0.0, 0.0, 0.0, 0.0, 0.0, 0.0, 0.0, 0.0, 0.0, 0.0, 0.0, 0.0, 0.0, 0.0, 0.0, 0.0, 0.0, 0.0, 0.0, 0.0, 0.0, 0.0, 0.0, 0.0, 0.0, 0.0, 0.0, 0.0, 0.0, 0.0, 0.0, 0.0, 0.0, 0.0, 0.0, 0.0, 0.0, 0.0, 0.0, 0.0, 0.0, 0.0, 0.0, 0.0, 0.0, 0.0, 0.0, 0.0, 0.0, 0.0, 0.0, 0.0, 0.0, 0.0, 0.0, 0.0, 0.0, 0.0, 0.0, 0.0, 0.0, 0.0, 0.0, 0.0, 0.0, 0.0, 0.0, 0.0, 0.0, 0.0, 0.0, 0.0, 0.0, 0.0, 0.0, 0.0, 0.0, 0.0, 0.0, 0.0, 0.0, 0.0, 0.0, 0.0, 0.0, 0.0, 0.0, 0.0, 0.0, 0.0, 0.0, 0.0, 0.0, 0.0, 0.0, 0.0, 0.0, 0.0, 0.0, 0.0, 0.0, 0.0, 0.0, 0.0, 0.0, 0.0, 0.0, 0.0, 0.0, 0.0, 0.0, 0.0, 0.0, 0.0, 0.0, 0.0, 0.0, 0.0, 0.0, 0.0, 0.0, 0.0, 0.0, 0.0, 0.0, 0.0, 0.0, 0.0, 0.0, 0.0, 0.0, 0.0, 0.0, 0.0, 0.0, 0.0, 0.0, 0.0, 0.0, 0.0, 0.0, 0.0, 0.0, 0.0, 0.0, 0.0, 0.0, 0.0, 0.0, 0.0, 0.0, 0.0, 0.0, 0.0, 0.0, 0.0, 0.0, 0.0, 0.0, 0.0, 0.0, 0.0, 0.0, 0.0, 0.0, 0.0, 0.0, 0.0, 0.0, 0.0, 0.0, 0.0, 0.0, 0.0, 0.0, 0.0, 0.0, 0.0, 0.0, 0.0, 0.0, 0.0, 0.0, 0.0, 0.0, 0.0, 0.0, 0.0, 0.0, 0.0, 0.0, 0.0, 0.0, 0.0, 0.0, 0.0, 0.0, 0.0, 0.0, 0.0, 0.0, 0.0, 0.0, 0.0, 0.0, 0.0, 0.0, 0.0, 0.0, 0.0, 0.0, 0.0, 0.0, 0.0, 0.0, 0.0, 0.0, 0.0, 0.0, 0.0, 0.0, 0.0, 0.0, 0.0, 0.0, 0.0, 0.0, 0.0, 0.0, 0.0, 0.0, 0.0, 0.0, 0.0, 0.0, 0.0, 0.0, 0.0, 1.0, 0.0, 0.0, 0.0, 0.0, 0.0, 0.0, 0.0, 0.0, 0.0, 0.0, 0.0, 0.0, 0.0, 0.0, 0.0, 0.0, 0.0, 0.0, 0.0, 0.0, 0.0, 0.0, 0.0, 0.0, 0.0, 0.0, 0.0, 0.0, 0.0, 0.0, 0.0, 0.0, 0.0, 0.0, 0.0, 0.0, 0.0, 0.0, 0.0, 0.0, 0.0, 0.0, 0.0, 0.0, 0.0, 0.0, 0.0, 0.0, 0.0, 0.0, 0.0, 0.0, 0.0, 0.0, 0.0, 0.0, 0.0, 0.0, 0.0, 0.0, 0.0, 0.0, 0.0, 0.0, 0.0, 0.0, 0.0, 0.0, 0.0, 0.0, 0.0, 0.0, 0.0, 0.0, 0.0, 0.0, 0.0, 0.0, 0.0, 0.0]\n",
      "[0, 5, 10, 15, 20, 25, 30, 35, 40, 45, 50, 55, 60, 65, 70, 75, 80, 85, 90, 95, 100, 105, 110, 115, 120, 125, 130, 135, 140, 145, 150, 155, 160, 165, 170, 175, 180, 185, 190, 195, 200, 205, 210, 215, 220, 225, 230, 235, 240, 245, 250, 255, 260, 265, 270, 275, 280, 285, 290, 295, 300, 305, 310, 315, 320, 325, 330, 335, 340, 345, 350, 355, 360, 365, 370, 375, 380, 385, 390, 395, 400, 405, 410, 415, 420, 425, 430, 435, 440, 445, 450, 455, 460, 465, 470, 475, 480, 485, 490, 495, 500, 505, 510, 515, 520, 525, 530, 535, 540, 545, 550, 555, 560, 565, 570, 575, 580, 585, 590, 595, 600, 605, 610, 615, 620, 625, 630, 635, 640, 645, 650, 655, 660, 665, 670, 675, 680, 685, 690, 695, 700, 705, 710, 715, 720, 725, 730, 735, 740, 745, 750, 755, 760, 765, 770, 775, 780, 785, 790, 795, 800, 805, 810, 815, 820, 825, 830, 835, 840, 845, 850, 855, 860, 865, 870, 875, 880, 885, 890, 895, 900, 905, 910, 915, 920, 925, 930, 935, 940, 945, 950, 955, 960, 965, 970, 975, 980, 985, 990, 995, 1000, 1005, 1010, 1015, 1020, 1025, 1030, 1035, 1040, 1045, 1050, 1055, 1060, 1065, 1070, 1075, 1080, 1085, 1090, 1095, 1100, 1105, 1110, 1115, 1120, 1125, 1130, 1135, 1140, 1145, 1150, 1155, 1160, 1165, 1170, 1175, 1180, 1185, 1190, 1195, 1200, 1205, 1210, 1215, 1220, 1225, 1230, 1235, 1240, 1245, 1250, 1255, 1260, 1265, 1270, 1275, 1280, 1285, 1290, 1295, 1300, 1305, 1310, 1315, 1320, 1325, 1330, 1335, 1340, 1345, 1350, 1355, 1360, 1365, 1370, 1375, 1380, 1385, 1390, 1395, 1400, 1405, 1410, 1415, 1420, 1425, 1430, 1435, 1440, 1445, 1450, 1455, 1460, 1465, 1470, 1475, 1480, 1485, 1490, 1495, 1500, 1505, 1510, 1515, 1520, 1525, 1530, 1535, 1540, 1545, 1550, 1555, 1560, 1565, 1570, 1575, 1580, 1585, 1590, 1595, 1600, 1605, 1610, 1615, 1620, 1625, 1630, 1635, 1640, 1645, 1650, 1655, 1660, 1665, 1670, 1675, 1680, 1685, 1690, 1695, 1700, 1705, 1710, 1715, 1720, 1725, 1730, 1735, 1740, 1745, 1750, 1755, 1760, 1765, 1770, 1775, 1780, 1785, 1790, 1795, 1800, 1805, 1810, 1815, 1820, 1825, 1830, 1835, 1840, 1845, 1850, 1855, 1860, 1865, 1870, 1875, 1880, 1885, 1890, 1895, 1900, 1905, 1910, 1915, 1920, 1925, 1930, 1935, 1940, 1945, 1950, 1955, 1960, 1965, 1970, 1975, 1980, 1985, 1990, 1995, 2000, 2005, 2010, 2015, 2020]\n"
     ]
    }
   ],
   "source": [
    "print(a)\n",
    "print(b)"
   ]
  },
  {
   "cell_type": "code",
   "execution_count": 9,
   "metadata": {},
   "outputs": [
    {
     "name": "stdout",
     "output_type": "stream",
     "text": [
      "index  bin_value  frequency_value\n",
      "non_sparce_frequency_collection:  [0, 5, 10, 15, 20, 25, 30, 35, 40, 45, 50, 55, 60, 65, 70, 75, 80, 85, 90, 95, 100, 1620]\n",
      "non_sparce_bin_collection:  [0.0, 0.0, 0.0, 1.0, 1.0, 0.0, 0.0, 0.0, 0.0, 0.0, 0.0, 1.0, 0.0, 0.0, 0.0, 0.0, 0.0, 0.0, 0.0, 0.0, 0.0, 1.0]\n"
     ]
    }
   ],
   "source": [
    "result = remove_no_signal_data_keep_first_20_bins(b, a )\n",
    "print(\"non_sparce_frequency_collection: \", result[0])\n",
    "print(\"non_sparce_bin_collection: \", result[1])"
   ]
  },
  {
   "cell_type": "markdown",
   "metadata": {},
   "source": [
    "##### from this last test we can infer the bin value  with 1620% relative erro was probably an outlier/noise"
   ]
  },
  {
   "cell_type": "markdown",
   "metadata": {},
   "source": [
    "### Visualizing the results\n"
   ]
  },
  {
   "cell_type": "code",
   "execution_count": 11,
   "metadata": {},
   "outputs": [],
   "source": [
    "import matplotlib.pyplot as plt"
   ]
  },
  {
   "cell_type": "code",
   "execution_count": 23,
   "metadata": {},
   "outputs": [],
   "source": [
    "from time import time\n",
    "\n",
    "def plot_the_histogram(data, bins_size):\n",
    "    start = time()\n",
    "    plt.figure(figsize=(15,5))\n",
    "    values = plt.hist(data, bins_size)\n",
    "\n",
    "    plt.ylabel('Count')\n",
    "    plt.xlabel('Bins of {}'.format(bins_size))\n",
    "    plt.title(r'Histogram')\n",
    "    plt.show()\n",
    "    \n",
    "    print(\"Underlying data strucutres\")\n",
    "    print(list(values[0]))\n",
    "    print(list(values[1]))\n",
    "    print('\\n len data:', len(list(values[0])))\n",
    "    print('\\n len data:', len(list(values[1])))\n",
    "    \n",
    "    print('##################################################################')\n",
    "    print('Chart generation  took: ', time() - start, 'seconds')\n",
    "    print('##################################################################')\n",
    "    \n",
    "def plot_vertical_bar(x,y):\n",
    "    start = time()\n",
    "    plt.figure(figsize=(38,12))\n",
    "    plt.bar(x,y)\n",
    "    plt.ylabel('Count')\n",
    "    plt.xlabel('Bins')\n",
    "    plt.title(r'Histogram')\n",
    "    plt.show()\n",
    "    \n",
    "    print(\"Underlying data strucutres\")\n",
    "    print(list(x))\n",
    "    print(list(y))\n",
    "\n",
    "    print('##################################################################')\n",
    "    print('Chart generation  took: ', time() - start, 'seconds')\n",
    "    print('##################################################################')\n",
    "    "
   ]
  },
  {
   "cell_type": "markdown",
   "metadata": {},
   "source": [
    "##### histogram with full series - different bins"
   ]
  },
  {
   "cell_type": "code",
   "execution_count": 24,
   "metadata": {},
   "outputs": [
    {
     "name": "stdout",
     "output_type": "stream",
     "text": [
      "[21.250099926276615, 15.558731396070618, 1624.6485747754782, 59.28552038655736]\n"
     ]
    },
    {
     "data": {
      "image/png": "[encoded data removed]",
      "text/plain": [
       "<Figure size 1080x360 with 1 Axes>"
      ]
     },
     "metadata": {
      "needs_background": "light"
     },
     "output_type": "display_data"
    },
    {
     "name": "stdout",
     "output_type": "stream",
     "text": [
      "Underlying data strucutres\n",
      "[2.0, 0.0, 1.0, 0.0, 0.0, 0.0, 0.0, 0.0, 0.0, 0.0, 0.0, 0.0, 0.0, 0.0, 0.0, 0.0, 0.0, 0.0, 0.0, 0.0, 0.0, 0.0, 0.0, 0.0, 0.0, 0.0, 0.0, 0.0, 0.0, 0.0, 0.0, 0.0, 0.0, 0.0, 0.0, 0.0, 0.0, 0.0, 0.0, 0.0, 0.0, 0.0, 0.0, 0.0, 0.0, 0.0, 0.0, 0.0, 0.0, 0.0, 0.0, 0.0, 0.0, 0.0, 0.0, 0.0, 0.0, 0.0, 0.0, 0.0, 0.0, 0.0, 0.0, 0.0, 0.0, 0.0, 0.0, 0.0, 0.0, 0.0, 0.0, 0.0, 0.0, 0.0, 0.0, 0.0, 0.0, 0.0, 0.0, 0.0, 0.0, 0.0, 0.0, 0.0, 0.0, 0.0, 0.0, 0.0, 0.0, 0.0, 0.0, 0.0, 0.0, 0.0, 0.0, 0.0, 0.0, 0.0, 0.0, 1.0]\n",
      "[15.558731396070618, 31.649629829864693, 47.74052826365877, 63.83142669745284, 79.92232513124691, 96.01322356504099, 112.10412199883505, 128.19502043262912, 144.2859188664232, 160.37681730021728, 176.46771573401136, 192.55861416780542, 208.6495126015995, 224.74041103539358, 240.83130946918763, 256.9222079029817, 273.0131063367758, 289.1040047705699, 305.194903204364, 321.28580163815803, 337.37670007195214, 353.4675985057462, 369.55849693954025, 385.64939537333436, 401.7402938071284, 417.83119224092246, 433.92209067471657, 450.0129891085106, 466.1038875423047, 482.1947859760988, 498.28568440989284, 514.376582843687, 530.4674812774809, 546.558379711275, 562.649278145069, 578.7401765788632, 594.8310750126573, 610.9219734464513, 627.0128718802454, 643.1037703140395, 659.1946687478336, 675.2855671816276, 691.3764656154217, 707.4673640492158, 723.5582624830098, 739.6491609168039, 755.740059350598, 771.830957784392, 787.9218562181861, 804.0127546519802, 820.1036530857742, 836.1945515195683, 852.2854499533624, 868.3763483871564, 884.4672468209505, 900.5581452547447, 916.6490436885387, 932.7399421223328, 948.8308405561269, 964.921738989921, 981.012637423715, 997.1035358575091, 1013.1944342913032, 1029.2853327250973, 1045.3762311588914, 1061.4671295926855, 1077.5580280264796, 1093.6489264602737, 1109.7398248940676, 1125.8307233278617, 1141.9216217616558, 1158.01252019545, 1174.103418629244, 1190.1943170630382, 1206.285215496832, 1222.3761139306262, 1238.4670123644203, 1254.5579107982144, 1270.6488092320085, 1286.7397076658026, 1302.8306060995967, 1318.9215045333906, 1335.0124029671847, 1351.1033014009788, 1367.194199834773, 1383.285098268567, 1399.3759967023611, 1415.466895136155, 1431.5577935699491, 1447.6486920037432, 1463.7395904375373, 1479.8304888713315, 1495.9213873051256, 1512.0122857389194, 1528.1031841727136, 1544.1940826065077, 1560.2849810403018, 1576.3758794740959, 1592.46677790789, 1608.557676341684, 1624.6485747754782]\n",
      "\n",
      " len data: 100\n",
      "\n",
      " len data: 101\n",
      "##################################################################\n",
      "Chart generation  took:  0.6556799411773682 seconds\n",
      "##################################################################\n"
     ]
    },
    {
     "data": {
      "image/png": "[encoded data removed]",
      "text/plain": [
       "<Figure size 1080x360 with 1 Axes>"
      ]
     },
     "metadata": {
      "needs_background": "light"
     },
     "output_type": "display_data"
    },
    {
     "name": "stdout",
     "output_type": "stream",
     "text": [
      "Underlying data strucutres\n",
      "[2.0, 0.0, 0.0, 0.0, 0.0, 1.0, 0.0, 0.0, 0.0, 0.0, 0.0, 0.0, 0.0, 0.0, 0.0, 0.0, 0.0, 0.0, 0.0, 0.0, 0.0, 0.0, 0.0, 0.0, 0.0, 0.0, 0.0, 0.0, 0.0, 0.0, 0.0, 0.0, 0.0, 0.0, 0.0, 0.0, 0.0, 0.0, 0.0, 0.0, 0.0, 0.0, 0.0, 0.0, 0.0, 0.0, 0.0, 0.0, 0.0, 0.0, 0.0, 0.0, 0.0, 0.0, 0.0, 0.0, 0.0, 0.0, 0.0, 0.0, 0.0, 0.0, 0.0, 0.0, 0.0, 0.0, 0.0, 0.0, 0.0, 0.0, 0.0, 0.0, 0.0, 0.0, 0.0, 0.0, 0.0, 0.0, 0.0, 0.0, 0.0, 0.0, 0.0, 0.0, 0.0, 0.0, 0.0, 0.0, 0.0, 0.0, 0.0, 0.0, 0.0, 0.0, 0.0, 0.0, 0.0, 0.0, 0.0, 0.0, 0.0, 0.0, 0.0, 0.0, 0.0, 0.0, 0.0, 0.0, 0.0, 0.0, 0.0, 0.0, 0.0, 0.0, 0.0, 0.0, 0.0, 0.0, 0.0, 0.0, 0.0, 0.0, 0.0, 0.0, 0.0, 0.0, 0.0, 0.0, 0.0, 0.0, 0.0, 0.0, 0.0, 0.0, 0.0, 0.0, 0.0, 0.0, 0.0, 0.0, 0.0, 0.0, 0.0, 0.0, 0.0, 0.0, 0.0, 0.0, 0.0, 0.0, 0.0, 0.0, 0.0, 0.0, 0.0, 0.0, 0.0, 0.0, 0.0, 0.0, 0.0, 0.0, 0.0, 0.0, 0.0, 0.0, 0.0, 0.0, 0.0, 0.0, 0.0, 0.0, 0.0, 0.0, 0.0, 0.0, 0.0, 0.0, 0.0, 0.0, 0.0, 0.0, 0.0, 0.0, 0.0, 0.0, 0.0, 0.0, 0.0, 0.0, 0.0, 0.0, 0.0, 0.0, 0.0, 0.0, 0.0, 0.0, 0.0, 1.0]\n",
      "[15.558731396070618, 23.604180612967653, 31.649629829864693, 39.69507904676173, 47.74052826365877, 55.78597748055581, 63.83142669745284, 71.87687591434987, 79.92232513124691, 87.96777434814395, 96.01322356504099, 104.05867278193801, 112.10412199883505, 120.1495712157321, 128.19502043262912, 136.24046964952618, 144.2859188664232, 152.33136808332023, 160.37681730021728, 168.4222665171143, 176.46771573401136, 184.5131649509084, 192.55861416780542, 200.60406338470247, 208.6495126015995, 216.69496181849652, 224.74041103539358, 232.7858602522906, 240.83130946918763, 248.87675868608468, 256.9222079029817, 264.96765711987877, 273.0131063367758, 281.0585555536729, 289.1040047705699, 297.1494539874669, 305.194903204364, 313.240352421261, 321.28580163815803, 329.3312508550551, 337.37670007195214, 345.42214928884914, 353.4675985057462, 361.51304772264325, 369.55849693954025, 377.6039461564373, 385.64939537333436, 393.69484459023136, 401.7402938071284, 409.78574302402546, 417.83119224092246, 425.8766414578195, 433.92209067471657, 441.96753989161357, 450.0129891085106, 458.0584383254077, 466.1038875423047, 474.14933675920173, 482.1947859760988, 490.24023519299584, 498.28568440989284, 506.3311336267899, 514.376582843687, 522.4220320605839, 530.4674812774809, 538.512930494378, 546.558379711275, 554.6038289281721, 562.649278145069, 570.6947273619661, 578.7401765788632, 586.7856257957602, 594.8310750126573, 602.8765242295543, 610.9219734464513, 618.9674226633483, 627.0128718802454, 635.0583210971424, 643.1037703140395, 651.1492195309365, 659.1946687478336, 667.2401179647305, 675.2855671816276, 683.3310163985246, 691.3764656154217, 699.4219148323187, 707.4673640492158, 715.5128132661127, 723.5582624830098, 731.6037116999069, 739.6491609168039, 747.694610133701, 755.740059350598, 763.785508567495, 771.830957784392, 779.8764070012891, 787.9218562181861, 795.9673054350832, 804.0127546519802, 812.0582038688773, 820.1036530857742, 828.1491023026713, 836.1945515195683, 844.2400007364654, 852.2854499533624, 860.3308991702595, 868.3763483871564, 876.4217976040535, 884.4672468209505, 892.5126960378476, 900.5581452547447, 908.6035944716417, 916.6490436885387, 924.6944929054357, 932.7399421223328, 940.7853913392298, 948.8308405561269, 956.8762897730239, 964.921738989921, 972.9671882068179, 981.012637423715, 989.058086640612, 997.1035358575091, 1005.1489850744061, 1013.1944342913032, 1021.2398835082001, 1029.2853327250973, 1037.3307819419942, 1045.3762311588914, 1053.4216803757884, 1061.4671295926855, 1069.5125788095825, 1077.5580280264796, 1085.6034772433766, 1093.6489264602737, 1101.6943756771707, 1109.7398248940676, 1117.7852741109648, 1125.8307233278617, 1133.876172544759, 1141.9216217616558, 1149.9670709785528, 1158.01252019545, 1166.057969412347, 1174.103418629244, 1182.148867846141, 1190.1943170630382, 1198.239766279935, 1206.285215496832, 1214.3306647137292, 1222.3761139306262, 1230.4215631475233, 1238.4670123644203, 1246.5124615813174, 1254.5579107982144, 1262.6033600151113, 1270.6488092320085, 1278.6942584489054, 1286.7397076658026, 1294.7851568826995, 1302.8306060995967, 1310.8760553164936, 1318.9215045333906, 1326.9669537502878, 1335.0124029671847, 1343.0578521840819, 1351.1033014009788, 1359.1487506178757, 1367.194199834773, 1375.2396490516699, 1383.285098268567, 1391.330547485464, 1399.3759967023611, 1407.421445919258, 1415.466895136155, 1423.5123443530522, 1431.5577935699491, 1439.6032427868463, 1447.6486920037432, 1455.6941412206404, 1463.7395904375373, 1471.7850396544343, 1479.8304888713315, 1487.8759380882284, 1495.9213873051256, 1503.9668365220225, 1512.0122857389194, 1520.0577349558166, 1528.1031841727136, 1536.1486333896107, 1544.1940826065077, 1552.2395318234048, 1560.2849810403018, 1568.3304302571987, 1576.3758794740959, 1584.4213286909928, 1592.46677790789, 1600.512227124787, 1608.557676341684, 1616.603125558581, 1624.6485747754782]\n",
      "\n",
      " len data: 200\n",
      "\n",
      " len data: 201\n",
      "##################################################################\n",
      "Chart generation  took:  0.9634087085723877 seconds\n",
      "##################################################################\n"
     ]
    }
   ],
   "source": [
    "percentual_error0 = [0.21250099926276614, 0.1555873139607062, 16.246485747754782, 0.5928552038655736]\n",
    "percentual_error = [ i*100 for i in percentual_error0]\n",
    "print(percentual_error)\n",
    "\n",
    "#plot_the_histogram(percentual_error, 5)\n",
    "#plot_the_histogram(percentual_error, 10)\n",
    "plot_the_histogram(percentual_error, 100) # seems the best value\n",
    "plot_the_histogram(percentual_error, 200) \n",
    "#plot_the_histogram(percentual_error, 1000)\n",
    "#plot_the_histogram(percentual_error, 2000)\n",
    "\n"
   ]
  },
  {
   "cell_type": "markdown",
   "metadata": {},
   "source": [
    "##### histogram with range "
   ]
  },
  {
   "cell_type": "code",
   "execution_count": 28,
   "metadata": {},
   "outputs": [
    {
     "name": "stdout",
     "output_type": "stream",
     "text": [
      "range(0, 2030, 5)\n"
     ]
    },
    {
     "data": {
      "image/png": "[encoded data removed]",
      "text/plain": [
       "<Figure size 1080x360 with 1 Axes>"
      ]
     },
     "metadata": {
      "needs_background": "light"
     },
     "output_type": "display_data"
    },
    {
     "name": "stdout",
     "output_type": "stream",
     "text": [
      "Underlying data strucutres\n",
      "[0.0, 0.0, 0.0, 1.0, 1.0, 0.0, 0.0, 0.0, 0.0, 0.0, 0.0, 1.0, 0.0, 0.0, 0.0, 0.0, 0.0, 0.0, 0.0, 0.0, 0.0, 0.0, 0.0, 0.0, 0.0, 0.0, 0.0, 0.0, 0.0, 0.0, 0.0, 0.0, 0.0, 0.0, 0.0, 0.0, 0.0, 0.0, 0.0, 0.0, 0.0, 0.0, 0.0, 0.0, 0.0, 0.0, 0.0, 0.0, 0.0, 0.0, 0.0, 0.0, 0.0, 0.0, 0.0, 0.0, 0.0, 0.0, 0.0, 0.0, 0.0, 0.0, 0.0, 0.0, 0.0, 0.0, 0.0, 0.0, 0.0, 0.0, 0.0, 0.0, 0.0, 0.0, 0.0, 0.0, 0.0, 0.0, 0.0, 0.0, 0.0, 0.0, 0.0, 0.0, 0.0, 0.0, 0.0, 0.0, 0.0, 0.0, 0.0, 0.0, 0.0, 0.0, 0.0, 0.0, 0.0, 0.0, 0.0, 0.0, 0.0, 0.0, 0.0, 0.0, 0.0, 0.0, 0.0, 0.0, 0.0, 0.0, 0.0, 0.0, 0.0, 0.0, 0.0, 0.0, 0.0, 0.0, 0.0, 0.0, 0.0, 0.0, 0.0, 0.0, 0.0, 0.0, 0.0, 0.0, 0.0, 0.0, 0.0, 0.0, 0.0, 0.0, 0.0, 0.0, 0.0, 0.0, 0.0, 0.0, 0.0, 0.0, 0.0, 0.0, 0.0, 0.0, 0.0, 0.0, 0.0, 0.0, 0.0, 0.0, 0.0, 0.0, 0.0, 0.0, 0.0, 0.0, 0.0, 0.0, 0.0, 0.0, 0.0, 0.0, 0.0, 0.0, 0.0, 0.0, 0.0, 0.0, 0.0, 0.0, 0.0, 0.0, 0.0, 0.0, 0.0, 0.0, 0.0, 0.0, 0.0, 0.0, 0.0, 0.0, 0.0, 0.0, 0.0, 0.0, 0.0, 0.0, 0.0, 0.0, 0.0, 0.0, 0.0, 0.0, 0.0, 0.0, 0.0, 0.0, 0.0, 0.0, 0.0, 0.0, 0.0, 0.0, 0.0, 0.0, 0.0, 0.0, 0.0, 0.0, 0.0, 0.0, 0.0, 0.0, 0.0, 0.0, 0.0, 0.0, 0.0, 0.0, 0.0, 0.0, 0.0, 0.0, 0.0, 0.0, 0.0, 0.0, 0.0, 0.0, 0.0, 0.0, 0.0, 0.0, 0.0, 0.0, 0.0, 0.0, 0.0, 0.0, 0.0, 0.0, 0.0, 0.0, 0.0, 0.0, 0.0, 0.0, 0.0, 0.0, 0.0, 0.0, 0.0, 0.0, 0.0, 0.0, 0.0, 0.0, 0.0, 0.0, 0.0, 0.0, 0.0, 0.0, 0.0, 0.0, 0.0, 0.0, 0.0, 0.0, 0.0, 0.0, 0.0, 0.0, 0.0, 0.0, 0.0, 0.0, 0.0, 0.0, 0.0, 0.0, 0.0, 0.0, 0.0, 0.0, 0.0, 0.0, 0.0, 0.0, 0.0, 0.0, 0.0, 0.0, 0.0, 0.0, 0.0, 0.0, 0.0, 0.0, 0.0, 0.0, 0.0, 0.0, 0.0, 0.0, 0.0, 0.0, 0.0, 0.0, 0.0, 0.0, 0.0, 0.0, 0.0, 0.0, 0.0, 0.0, 0.0, 0.0, 0.0, 0.0, 1.0, 0.0, 0.0, 0.0, 0.0, 0.0, 0.0, 0.0, 0.0, 0.0, 0.0, 0.0, 0.0, 0.0, 0.0, 0.0, 0.0, 0.0, 0.0, 0.0, 0.0, 0.0, 0.0, 0.0, 0.0, 0.0, 0.0, 0.0, 0.0, 0.0, 0.0, 0.0, 0.0, 0.0, 0.0, 0.0, 0.0, 0.0, 0.0, 0.0, 0.0, 0.0, 0.0, 0.0, 0.0, 0.0, 0.0, 0.0, 0.0, 0.0, 0.0, 0.0, 0.0, 0.0, 0.0, 0.0, 0.0, 0.0, 0.0, 0.0, 0.0, 0.0, 0.0, 0.0, 0.0, 0.0, 0.0, 0.0, 0.0, 0.0, 0.0, 0.0, 0.0, 0.0, 0.0, 0.0, 0.0, 0.0, 0.0, 0.0, 0.0]\n",
      "[0, 5, 10, 15, 20, 25, 30, 35, 40, 45, 50, 55, 60, 65, 70, 75, 80, 85, 90, 95, 100, 105, 110, 115, 120, 125, 130, 135, 140, 145, 150, 155, 160, 165, 170, 175, 180, 185, 190, 195, 200, 205, 210, 215, 220, 225, 230, 235, 240, 245, 250, 255, 260, 265, 270, 275, 280, 285, 290, 295, 300, 305, 310, 315, 320, 325, 330, 335, 340, 345, 350, 355, 360, 365, 370, 375, 380, 385, 390, 395, 400, 405, 410, 415, 420, 425, 430, 435, 440, 445, 450, 455, 460, 465, 470, 475, 480, 485, 490, 495, 500, 505, 510, 515, 520, 525, 530, 535, 540, 545, 550, 555, 560, 565, 570, 575, 580, 585, 590, 595, 600, 605, 610, 615, 620, 625, 630, 635, 640, 645, 650, 655, 660, 665, 670, 675, 680, 685, 690, 695, 700, 705, 710, 715, 720, 725, 730, 735, 740, 745, 750, 755, 760, 765, 770, 775, 780, 785, 790, 795, 800, 805, 810, 815, 820, 825, 830, 835, 840, 845, 850, 855, 860, 865, 870, 875, 880, 885, 890, 895, 900, 905, 910, 915, 920, 925, 930, 935, 940, 945, 950, 955, 960, 965, 970, 975, 980, 985, 990, 995, 1000, 1005, 1010, 1015, 1020, 1025, 1030, 1035, 1040, 1045, 1050, 1055, 1060, 1065, 1070, 1075, 1080, 1085, 1090, 1095, 1100, 1105, 1110, 1115, 1120, 1125, 1130, 1135, 1140, 1145, 1150, 1155, 1160, 1165, 1170, 1175, 1180, 1185, 1190, 1195, 1200, 1205, 1210, 1215, 1220, 1225, 1230, 1235, 1240, 1245, 1250, 1255, 1260, 1265, 1270, 1275, 1280, 1285, 1290, 1295, 1300, 1305, 1310, 1315, 1320, 1325, 1330, 1335, 1340, 1345, 1350, 1355, 1360, 1365, 1370, 1375, 1380, 1385, 1390, 1395, 1400, 1405, 1410, 1415, 1420, 1425, 1430, 1435, 1440, 1445, 1450, 1455, 1460, 1465, 1470, 1475, 1480, 1485, 1490, 1495, 1500, 1505, 1510, 1515, 1520, 1525, 1530, 1535, 1540, 1545, 1550, 1555, 1560, 1565, 1570, 1575, 1580, 1585, 1590, 1595, 1600, 1605, 1610, 1615, 1620, 1625, 1630, 1635, 1640, 1645, 1650, 1655, 1660, 1665, 1670, 1675, 1680, 1685, 1690, 1695, 1700, 1705, 1710, 1715, 1720, 1725, 1730, 1735, 1740, 1745, 1750, 1755, 1760, 1765, 1770, 1775, 1780, 1785, 1790, 1795, 1800, 1805, 1810, 1815, 1820, 1825, 1830, 1835, 1840, 1845, 1850, 1855, 1860, 1865, 1870, 1875, 1880, 1885, 1890, 1895, 1900, 1905, 1910, 1915, 1920, 1925, 1930, 1935, 1940, 1945, 1950, 1955, 1960, 1965, 1970, 1975, 1980, 1985, 1990, 1995, 2000, 2005, 2010, 2015, 2020, 2025]\n",
      "\n",
      " len data: 405\n",
      "\n",
      " len data: 406\n",
      "##################################################################\n",
      "Chart generation  took:  1.2389297485351562 seconds\n",
      "##################################################################\n"
     ]
    }
   ],
   "source": [
    "percentual_error = [0.21250099926276614, 0.1555873139607062, 16.246485747754782, 0.5928552038655736]\n",
    "try:\n",
    "    start = time()\n",
    "    # generating the histogram RANGE - sparce matrix\n",
    "    max_series = max(percentual_error) * 100  # transforming the max back into %\n",
    "    hisgogram_x_max = max_series  * 1.25     # expanding the max x axis value by 25%\n",
    "    bins_size = 5\n",
    "    bins_range = range(0, int(hisgogram_x_max), int(bins_size))  # cast later to not truncate info\n",
    "    print(bins_range)\n",
    "      \n",
    "    data_collection = [i*100 for i in percentual_error] # transforming the max back into %\n",
    "\n",
    "    plot_the_histogram(data_collection, bins_range)\n",
    "\n",
    "except Exception as e: print(str(e))"
   ]
  },
  {
   "cell_type": "markdown",
   "metadata": {},
   "source": [
    "#####  histogram using the non-sparce values "
   ]
  },
  {
   "cell_type": "code",
   "execution_count": 29,
   "metadata": {},
   "outputs": [
    {
     "name": "stdout",
     "output_type": "stream",
     "text": [
      "index  bin_value  frequency_value\n",
      "non_sparce_frequency_collection:  [0, 5, 10, 15, 20, 25, 30, 35, 40, 45, 50, 55, 60, 65, 70, 75, 80, 85, 90, 95, 100, 1620]\n",
      "non_sparce_bin_collection:  [0.0, 0.0, 0.0, 1.0, 1.0, 0.0, 0.0, 0.0, 0.0, 0.0, 0.0, 1.0, 0.0, 0.0, 0.0, 0.0, 0.0, 0.0, 0.0, 0.0, 0.0, 1.0]\n"
     ]
    }
   ],
   "source": [
    "result = remove_no_signal_data_keep_first_20_bins(b, a )\n",
    "print(\"non_sparce_frequency_collection: \", result[0])\n",
    "print(\"non_sparce_bin_collection: \", result[1])"
   ]
  },
  {
   "cell_type": "code",
   "execution_count": 30,
   "metadata": {},
   "outputs": [
    {
     "data": {
      "image/png": "[encoded data removed]",
      "text/plain": [
       "<Figure size 2736x864 with 1 Axes>"
      ]
     },
     "metadata": {
      "needs_background": "light"
     },
     "output_type": "display_data"
    },
    {
     "name": "stdout",
     "output_type": "stream",
     "text": [
      "Underlying data strucutres\n",
      "[0, 5, 10, 15, 20, 25, 30, 35, 40, 45, 50, 55, 60, 65, 70, 75, 80, 85, 90, 95, 100, 1620]\n",
      "[0.0, 0.0, 0.0, 1.0, 1.0, 0.0, 0.0, 0.0, 0.0, 0.0, 0.0, 1.0, 0.0, 0.0, 0.0, 0.0, 0.0, 0.0, 0.0, 0.0, 0.0, 1.0]\n",
      "##################################################################\n",
      "Chart generation  took:  1.0186498165130615 seconds\n",
      "##################################################################\n"
     ]
    }
   ],
   "source": [
    "plot_vertical_bar(result[0], result[1])\n",
    "#plot_vertical_bar(result[0][:14], result[1][:14]) # no outliers region"
   ]
  },
  {
   "cell_type": "markdown",
   "metadata": {},
   "source": [
    "### Conclusions\n",
    "#### From the former figure, using bar charts with the non-sparce dataset, we could render the same chart faster and using way less data points. On this last example, we convert 406 to 22 data points without losing information. The matplotlib bar handled the null spaces. With this approach, we dont need to save the underlaying data structure into the JSON response. Making it a more convenient option when transporting the data.\n",
    "\n",
    "<h4>Even though a algorithm to fix sparsity was developed and tested, the computational consumption of the outliers are still a problem, since the sparce algorithms starts after the histogram calculations. \n",
    "</h4>\n",
    "\n",
    "\n"
   ]
  },
  {
   "cell_type": "markdown",
   "metadata": {},
   "source": [
    "\n",
    "#### Next steps: \n",
    "<h4>\n",
    "    Check if there is a way to remove sparcity before the histogram calculations\n",
    "</h4>\n",
    "<h4>\n",
    "    Check using  javascript frontend libs for loss of information when using the original data and the sparcity algorithm result data\n",
    "</h4>\n"
   ]
  },
  {
   "cell_type": "code",
   "execution_count": null,
   "metadata": {},
   "outputs": [],
   "source": []
  }
 ],
 "metadata": {
  "kernelspec": {
   "display_name": "Python 3",
   "language": "python",
   "name": "python3"
  },
  "language_info": {
   "codemirror_mode": {
    "name": "ipython",
    "version": 3
   },
   "file_extension": ".py",
   "mimetype": "text/x-python",
   "name": "python",
   "nbconvert_exporter": "python",
   "pygments_lexer": "ipython3",
   "version": "3.7.5"
  }
 },
 "nbformat": 4,
 "nbformat_minor": 2
}
